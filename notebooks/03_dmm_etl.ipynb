{
 "cells": [
  {
   "cell_type": "markdown",
   "id": "ad19fd84",
   "metadata": {},
   "source": [
    "DMM-Style ETL Prototype\\nUsing NYC Taxi Trip Data Sample"
   ]
  },
  {
   "cell_type": "code",
   "execution_count": 10,
   "id": "cf820fbb",
   "metadata": {},
   "outputs": [
    {
     "name": "stdout",
     "output_type": "stream",
     "text": [
      "Memory usage: 0.06 MB\n",
      "Execution time: 0.8117 seconds\n"
     ]
    }
   ],
   "source": [
    "#imports\n",
    "import pandas as pd\n",
    "import numpy as np\n",
    "from memory_profiler import memory_usage\n",
    "import time\n",
    "\n",
    "# Load the same 10K NYC taxi data sample\n",
    "df = pd.read_csv('../data/processed/yellow_tripdata_sample_10k.csv')\n",
    "df.head()\n",
    "\n",
    "# Simulate sparse mapping matrix\n",
    "\n",
    "#Step 1: Create a sparse transformation matrix for payment_type\n",
    "payment_matrix = np.zeros((6, 6))  # Simulate a 6x6 identity-like mapping\n",
    "np.fill_diagonal(payment_matrix, 1)\n",
    "# Define label list to map\n",
    "payment_labels = ['Credit Card', 'Cash', 'No Charge', 'Dispute', 'Unknown', 'Voided Trip']\n",
    "payment_map_dmm = dict(zip(range(1, 7), payment_labels))\n",
    "\n",
    "# Matrix-style transformation\n",
    "\n",
    "# Step 2: Apply matrix-based transformation\n",
    "def dmm_transform(df):\n",
    "    df['payment_label'] = df['payment_type'].map(payment_map_dmm)\n",
    "    df['trip_duration_min'] = (\n",
    "        pd.to_datetime(df['tpep_dropoff_datetime']) - pd.to_datetime(df['tpep_pickup_datetime'])\n",
    "    ).dt.total_seconds() / 60\n",
    "    return df\n",
    "\n",
    "# Profiling\n",
    "\n",
    "# Step 3: Profile time and memory usage of DMM transformation\n",
    "start_time = time.time()\n",
    "mem_usage = memory_usage((dmm_transform, (df.copy(),)))\n",
    "elapsed_time = time.time() - start_time\n",
    "    \n",
    "print(f\"Memory usage: {max(mem_usage) - min(mem_usage):.2f} MB\")\n",
    "print(f\"Execution time: {elapsed_time:.4f} seconds\")"
   ]
  }
 ],
 "metadata": {
  "kernelspec": {
   "display_name": "myenv",
   "language": "python",
   "name": "python3"
  },
  "language_info": {
   "codemirror_mode": {
    "name": "ipython",
    "version": 3
   },
   "file_extension": ".py",
   "mimetype": "text/x-python",
   "name": "python",
   "nbconvert_exporter": "python",
   "pygments_lexer": "ipython3",
   "version": "3.11.5"
  }
 },
 "nbformat": 4,
 "nbformat_minor": 5
}
