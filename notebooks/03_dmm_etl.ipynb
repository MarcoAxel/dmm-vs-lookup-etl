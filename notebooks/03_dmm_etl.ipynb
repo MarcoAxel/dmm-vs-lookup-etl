{
 "cells": [
  {
   "cell_type": "markdown",
   "id": "ad19fd84",
   "metadata": {},
   "source": [
    "Simple DMM-Style ETL Prototype\\nUsing NYC Taxi Trip Data Sample"
   ]
  },
  {
   "cell_type": "code",
   "execution_count": 10,
   "id": "cf820fbb",
   "metadata": {},
   "outputs": [
    {
     "name": "stdout",
     "output_type": "stream",
     "text": [
      "Memory usage: 0.06 MB\n",
      "Execution time: 0.8117 seconds\n"
     ]
    }
   ],
   "source": [
    "#imports\n",
    "import pandas as pd\n",
    "import numpy as np\n",
    "from memory_profiler import memory_usage\n",
    "import time\n",
    "\n",
    "# Load the same 10K NYC taxi data sample\n",
    "df = pd.read_csv('../data/processed/yellow_tripdata_sample_10k.csv')\n",
    "df.head()\n",
    "\n",
    "# Simulate sparse mapping matrix\n",
    "\n",
    "#Step 1: Create a sparse transformation matrix for payment_type\n",
    "payment_matrix = np.zeros((6, 6))  # Simulate a 6x6 identity-like mapping\n",
    "np.fill_diagonal(payment_matrix, 1)\n",
    "# Define label list to map\n",
    "payment_labels = ['Credit Card', 'Cash', 'No Charge', 'Dispute', 'Unknown', 'Voided Trip']\n",
    "payment_map_dmm = dict(zip(range(1, 7), payment_labels))\n",
    "\n",
    "# Matrix-style transformation\n",
    "\n",
    "# Step 2: Apply matrix-based transformation\n",
    "def dmm_transform(df):\n",
    "    df['payment_label'] = df['payment_type'].map(payment_map_dmm)\n",
    "    df['trip_duration_min'] = (\n",
    "        pd.to_datetime(df['tpep_dropoff_datetime']) - pd.to_datetime(df['tpep_pickup_datetime'])\n",
    "    ).dt.total_seconds() / 60\n",
    "    return df\n",
    "\n",
    "# Profiling\n",
    "\n",
    "# Step 3: Profile time and memory usage of DMM transformation\n",
    "start_time = time.time()\n",
    "mem_usage = memory_usage((dmm_transform, (df.copy(),)))\n",
    "elapsed_time = time.time() - start_time\n",
    "    \n",
    "print(f\"Memory usage: {max(mem_usage) - min(mem_usage):.2f} MB\")\n",
    "print(f\"Execution time: {elapsed_time:.4f} seconds\")"
   ]
  },
  {
   "cell_type": "markdown",
   "id": "0817d1f1",
   "metadata": {},
   "source": [
    "Sparced(100*100) DMM-Style ETL Prototype\\nUsing NYC Taxi Trip Data Sample"
   ]
  },
  {
   "cell_type": "code",
   "execution_count": 14,
   "id": "a501a56b",
   "metadata": {},
   "outputs": [
    {
     "name": "stdout",
     "output_type": "stream",
     "text": [
      "Memory usage: 0.19 MB\n",
      "Execution time: 0.8119 seconds\n",
      "Transformed sparse DMM data saved.\n"
     ]
    }
   ],
   "source": [
    "# Imports\n",
    "import pandas as pd\n",
    "import numpy as np\n",
    "from memory_profiler import memory_usage\n",
    "import time\n",
    "import gc #garbage collector\n",
    "\n",
    "# Load the same 10K NYC taxi data sample\n",
    "df = pd.read_csv('../data/processed/yellow_tripdata_sample_10k.csv')\n",
    "df.head()\n",
    "\n",
    "# Simulate sparse mapping matrix\n",
    "\n",
    "# Step 1: Create a sparse transformation matrix\n",
    "rows, cols = 100, 100\n",
    "sparse_matrix = np.zeros((rows, cols))\n",
    "np.random.seed(42)\n",
    "\n",
    "# Activate ~5% of the matrix randomly\n",
    "active_indices = np.random.choice(rows * cols, size=int(0.05 * rows * cols), replace=False)\n",
    "for index in active_indices:\n",
    "    r, c = divmod(index, cols)\n",
    "    sparse_matrix[r, c] = 1\n",
    "\n",
    "# Create label mappings for a subset (e.g., payment_type 1–6)\n",
    "labels = [f\"Label_{i}\" for i in range(1, 101)]\n",
    "payment_map_sparse_dmm = {i: labels[i] for i in range(1, 7)}\n",
    "\n",
    "# Define transformation function\n",
    "def dmm_sparse_transform(df):\n",
    "    df['payment_label'] = df['payment_type'].map(payment_map_sparse_dmm)\n",
    "    df['trip_duration_min'] = (\n",
    "        pd.to_datetime(df['tpep_dropoff_datetime']) - pd.to_datetime(df['tpep_pickup_datetime'])\n",
    "    ).dt.total_seconds() / 60\n",
    "    return df\n",
    "\n",
    "#  Garbage collector to clear memory before benchmarking\n",
    "gc.collect()\n",
    "\n",
    "# Profile time and memory usage\n",
    "start_time = time.time()\n",
    "mem_usage = memory_usage((dmm_sparse_transform, (df.copy(),)))\n",
    "elapsed_time = time.time() - start_time\n",
    "\n",
    "print(f\"Memory usage: {max(mem_usage) - min(mem_usage):.2f} MB\")\n",
    "print(f\"Execution time: {elapsed_time:.4f} seconds\")\n",
    "\n",
    "# Save the transformed DataFrame\n",
    "transformed_df = dmm_sparse_transform(df.copy())\n",
    "transformed_df.to_csv('../data/processed/transformed_dmm_sparse.csv', index=False)\n",
    "print(\"Transformed sparse DMM data saved.\")"
   ]
  },
  {
   "cell_type": "code",
   "execution_count": 15,
   "id": "f6cc32c4",
   "metadata": {},
   "outputs": [
    {
     "name": "stdout",
     "output_type": "stream",
     "text": [
      "Memory usage: 0.34 MB\n",
      "Execution time: 0.6554 seconds\n",
      "Transformed sparse DMM data saved.\n"
     ]
    }
   ],
   "source": [
    "# Imports\n",
    "import pandas as pd\n",
    "import numpy as np\n",
    "from memory_profiler import memory_usage\n",
    "import time\n",
    "import gc #garbage collector\n",
    "\n",
    "# Load the same 10K NYC taxi data sample\n",
    "df = pd.read_csv('../data/processed/yellow_tripdata_sample_10k.csv')\n",
    "df.head()\n",
    "\n",
    "# Simulate sparse mapping matrix\n",
    "\n",
    "# Step 1: Create a sparse transformation matrix\n",
    "rows, cols = 100, 100\n",
    "sparse_matrix = np.zeros((rows, cols))\n",
    "np.random.seed(42)\n",
    "\n",
    "# Activate ~5% of the matrix randomly\n",
    "active_indices = np.random.choice(rows * cols, size=int(0.05 * rows * cols), replace=False)\n",
    "for index in active_indices:\n",
    "    r, c = divmod(index, cols)\n",
    "    sparse_matrix[r, c] = 1\n",
    "\n",
    "# Create label mappings for a subset (e.g., payment_type 1–6)\n",
    "labels = [f\"Label_{i}\" for i in range(1, 101)]\n",
    "payment_map_sparse_dmm = {i: labels[i] for i in range(1, 7)}\n",
    "\n",
    "# Define transformation function\n",
    "def dmm_sparse_transform(df):\n",
    "    df['payment_label'] = df['payment_type'].map(payment_map_sparse_dmm)\n",
    "    df['trip_duration_min'] = (\n",
    "        pd.to_datetime(df['tpep_dropoff_datetime']) - pd.to_datetime(df['tpep_pickup_datetime'])\n",
    "    ).dt.total_seconds() / 60\n",
    "    return df\n",
    "\n",
    "#  Garbage collector to clear memory before benchmarking\n",
    "gc.collect()\n",
    "\n",
    "# Profile time and memory usage\n",
    "start_time = time.time()\n",
    "mem_usage = memory_usage((dmm_sparse_transform, (df.copy(),)))\n",
    "elapsed_time = time.time() - start_time\n",
    "\n",
    "print(f\"Memory usage: {max(mem_usage) - min(mem_usage):.2f} MB\")\n",
    "print(f\"Execution time: {elapsed_time:.4f} seconds\")\n",
    "\n",
    "# Save the transformed DataFrame\n",
    "transformed_df = dmm_sparse_transform(df.copy())\n",
    "transformed_df.to_csv('../data/processed/transformed_dmm_sparse.csv', index=False)\n",
    "print(\"Transformed sparse DMM data saved.\")"
   ]
  },
  {
   "cell_type": "code",
   "execution_count": 1,
   "id": "3f2770d8",
   "metadata": {},
   "outputs": [
    {
     "name": "stdout",
     "output_type": "stream",
     "text": [
      "Memory usage: 0.00 MB\n",
      "Execution time: 0.8342 seconds\n",
      "Transformed sparse DMM data saved.\n"
     ]
    }
   ],
   "source": [
    "# Imports\n",
    "import pandas as pd\n",
    "import numpy as np\n",
    "from memory_profiler import memory_usage\n",
    "import time\n",
    "import gc #garbage collector\n",
    "\n",
    "# Load the same 10K NYC taxi data sample\n",
    "df = pd.read_csv('../data/processed/yellow_tripdata_sample_10k.csv')\n",
    "df.head()\n",
    "\n",
    "# Simulate sparse mapping matrix\n",
    "\n",
    "# Step 1: Create a sparse transformation matrix\n",
    "rows, cols = 100, 100\n",
    "sparse_matrix = np.zeros((rows, cols))\n",
    "np.random.seed(42)\n",
    "\n",
    "# Activate ~5% of the matrix randomly\n",
    "active_indices = np.random.choice(rows * cols, size=int(0.05 * rows * cols), replace=False)\n",
    "for index in active_indices:\n",
    "    r, c = divmod(index, cols)\n",
    "    sparse_matrix[r, c] = 1\n",
    "\n",
    "# Create label mappings for a subset (e.g., payment_type 1–6)\n",
    "labels = [f\"Label_{i}\" for i in range(1, 101)]\n",
    "payment_map_sparse_dmm = {i: labels[i] for i in range(1, 7)}\n",
    "\n",
    "# Define transformation function\n",
    "def dmm_sparse_transform(df):\n",
    "    df['payment_label'] = df['payment_type'].map(payment_map_sparse_dmm)\n",
    "    df['trip_duration_min'] = (\n",
    "        pd.to_datetime(df['tpep_dropoff_datetime']) - pd.to_datetime(df['tpep_pickup_datetime'])\n",
    "    ).dt.total_seconds() / 60\n",
    "    return df\n",
    "\n",
    "#  Garbage collector to clear memory before benchmarking\n",
    "gc.collect()\n",
    "\n",
    "# Profile time and memory usage\n",
    "start_time = time.time()\n",
    "mem_usage = memory_usage((dmm_sparse_transform, (df.copy(),)))\n",
    "elapsed_time = time.time() - start_time\n",
    "\n",
    "print(f\"Memory usage: {max(mem_usage) - min(mem_usage):.2f} MB\")\n",
    "print(f\"Execution time: {elapsed_time:.4f} seconds\")\n",
    "\n",
    "# Save the transformed DataFrame\n",
    "transformed_df = dmm_sparse_transform(df.copy())\n",
    "transformed_df.to_csv('../data/processed/transformed_dmm_sparse.csv', index=False)\n",
    "print(\"Transformed sparse DMM data saved.\")"
   ]
  },
  {
   "cell_type": "code",
   "execution_count": null,
   "id": "d6ac6eac",
   "metadata": {},
   "outputs": [],
   "source": []
  }
 ],
 "metadata": {
  "kernelspec": {
   "display_name": "myenv",
   "language": "python",
   "name": "python3"
  },
  "language_info": {
   "codemirror_mode": {
    "name": "ipython",
    "version": 3
   },
   "file_extension": ".py",
   "mimetype": "text/x-python",
   "name": "python",
   "nbconvert_exporter": "python",
   "pygments_lexer": "ipython3",
   "version": "3.11.5"
  }
 },
 "nbformat": 4,
 "nbformat_minor": 5
}
