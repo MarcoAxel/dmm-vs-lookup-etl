{
 "cells": [
  {
   "cell_type": "markdown",
   "id": "4812ae80",
   "metadata": {},
   "source": [
    "### DMM ETL compation emulation\n",
    "#### Using NYC Taxi Trip Data Sample with Sparse Matrix Simulation\n"
   ]
  },
  {
   "cell_type": "code",
   "execution_count": null,
   "id": "bc50ec9a",
   "metadata": {},
   "outputs": [
    {
     "name": "stdout",
     "output_type": "stream",
     "text": [
      "Memory usage: 0.02 MB\n",
      "Execution time: 0.4611 seconds\n",
      "Transformed sparse DMM data saved.\n"
     ]
    },
    {
     "data": {
      "text/plain": [
       "52"
      ]
     },
     "execution_count": 1,
     "metadata": {},
     "output_type": "execute_result"
    }
   ],
   "source": [
    "# Imports\n",
    "import pandas as pd\n",
    "import numpy as np\n",
    "from memory_profiler import memory_usage\n",
    "import time\n",
    "import gc\n",
    "\n",
    "# Load the same 10K NYC taxi data sample\n",
    "df = pd.read_csv('../data/processed/yellow_tripdata_sample_10k.csv')\n",
    "df.head()\n",
    "\n",
    "# Step 1: Create a sparse transformation matrix\n",
    "rows, cols = 100, 100\n",
    "sparse_matrix = np.zeros((rows, cols))\n",
    "np.random.seed(42)\n",
    "\n",
    "# Activate ~5% of the matrix randomly (compaction simulation)\n",
    "active_indices = np.random.choice(rows * cols, size=int(0.05 * rows * cols), replace=False)\n",
    "for index in active_indices:\n",
    "    r, c = divmod(index, cols)\n",
    "    sparse_matrix[r, c] = 1\n",
    "\n",
    "# Step 2: Create label mappings only for payment_type values 1–6 (emulated compaction)\n",
    "labels = [f\"Label_{i}\" for i in range(1, 101)]\n",
    "payment_map_sparse_dmm = {i: labels[i] for i in range(1, 7)}\n",
    "\n",
    "# Step 3: Define the sparse DMM transformation function\n",
    "def dmm_sparse_transform(df):\n",
    "    df['payment_label'] = df['payment_type'].map(payment_map_sparse_dmm)\n",
    "    df['trip_duration_min'] = (\n",
    "        pd.to_datetime(df['tpep_dropoff_datetime']) - pd.to_datetime(df['tpep_pickup_datetime'])\n",
    "    ).dt.total_seconds() / 60\n",
    "    return df\n",
    "\n",
    "# Step 4: Profile memory and time\n",
    "start_time = time.time()\n",
    "mem_usage = memory_usage((dmm_sparse_transform, (df.copy(),)), interval=0.01, retval=False)\n",
    "elapsed_time = time.time() - start_time\n",
    "\n",
    "print(f\"Memory usage: {max(mem_usage) - min(mem_usage):.2f} MB\")\n",
    "print(f\"Execution time: {elapsed_time:.4f} seconds\")\n",
    "\n",
    "# Step 5: Save the transformed DataFrame\n",
    "transformed_df = dmm_sparse_transform(df.copy())\n",
    "transformed_df.to_csv('../data/processed/transformed/transformed_dmm_sparse.csv', index=False)\n",
    "print(\"Transformed sparse DMM data saved.\")\n",
    "\n",
    "# Step 6: Clean up memory\n",
    "del transformed_df\n",
    "del df\n",
    "gc.collect(0)"
   ]
  }
 ],
 "metadata": {
  "kernelspec": {
   "display_name": "myenv",
   "language": "python",
   "name": "python3"
  },
  "language_info": {
   "codemirror_mode": {
    "name": "ipython",
    "version": 3
   },
   "file_extension": ".py",
   "mimetype": "text/x-python",
   "name": "python",
   "nbconvert_exporter": "python",
   "pygments_lexer": "ipython3",
   "version": "3.11.5"
  }
 },
 "nbformat": 4,
 "nbformat_minor": 5
}
