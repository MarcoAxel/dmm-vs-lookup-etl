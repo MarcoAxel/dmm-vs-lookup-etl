{
 "cells": [
  {
   "cell_type": "code",
   "execution_count": 10,
   "id": "cf40e94e",
   "metadata": {},
   "outputs": [
    {
     "name": "stdout",
     "output_type": "stream",
     "text": [
      "Sampled data saved to ../data/processed/yellow_tripdata_sample_10k.csv\n"
     ]
    }
   ],
   "source": [
    "import pandas as pd\n",
    "\n",
    "# Define file paths\n",
    "raw_data_path = '../data/raw/yellow_tripdata_2023-01.parquet'\n",
    "sample_data_path = '../data/processed/yellow_tripdata_sample_10k.csv'\n",
    "\n",
    "# Load the Parquet file\n",
    "df = pd.read_parquet(raw_data_path)\n",
    "\n",
    "# Sample 10,000 rows\n",
    "df_sample = df.sample(n=10000, random_state=42)\n",
    "\n",
    "# Save the sample to CSV\n",
    "df_sample.to_csv(sample_data_path, index=False)\n",
    "\n",
    "print(f\"Sampled data saved to {sample_data_path}\")"
   ]
  }
 ],
 "metadata": {
  "kernelspec": {
   "display_name": "myenv",
   "language": "python",
   "name": "python3"
  },
  "language_info": {
   "codemirror_mode": {
    "name": "ipython",
    "version": 3
   },
   "file_extension": ".py",
   "mimetype": "text/x-python",
   "name": "python",
   "nbconvert_exporter": "python",
   "pygments_lexer": "ipython3",
   "version": "3.11.5"
  }
 },
 "nbformat": 4,
 "nbformat_minor": 5
}
